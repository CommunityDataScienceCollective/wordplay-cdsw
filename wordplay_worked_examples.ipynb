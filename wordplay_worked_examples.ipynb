{
 "cells": [
  {
   "cell_type": "markdown",
   "id": "medium-bonus",
   "metadata": {},
   "source": [
    "If you build a new book, you will need to (a) keep it in the same directory as this file and (b) copy the cell immediately below into your notebook so that you also import the wordlist into your notebook. Unless you do that, you will not have the wordlist file."
   ]
  },
  {
   "cell_type": "code",
   "execution_count": null,
   "id": "portuguese-pickup",
   "metadata": {},
   "outputs": [],
   "source": [
    "# this code imports the wordlist into a new list called wordlist\n",
    "from scrabble import wordlist"
   ]
  },
  {
   "cell_type": "markdown",
   "id": "decreased-contemporary",
   "metadata": {},
   "source": [
    "### Example 1: Let's come up with a program to tell us how many words start with \"aa\""
   ]
  },
  {
   "cell_type": "code",
   "execution_count": null,
   "id": "turned-method",
   "metadata": {},
   "outputs": [],
   "source": [
    "matches = []\n",
    "for word in wordlist:\n",
    "    if word[0:2] == \"aa\":\n",
    "        matches.append(word)\n",
    "len(matches)"
   ]
  },
  {
   "cell_type": "code",
   "execution_count": null,
   "id": "hydraulic-allah",
   "metadata": {},
   "outputs": [],
   "source": [
    "for match in matches:\n",
    "    print(match)"
   ]
  },
  {
   "cell_type": "markdown",
   "id": "tribal-minister",
   "metadata": {},
   "source": [
    "## Example 2: print every word that contains two \"l\"s in a row "
   ]
  },
  {
   "cell_type": "code",
   "execution_count": null,
   "id": "prepared-religious",
   "metadata": {},
   "outputs": [],
   "source": [
    "matches = []\n",
    "\n",
    "substring = \"ll\"\n",
    "# Print all words containing 'l'.\n",
    "for word in wordlist:\n",
    "    if substring in word:\n",
    "        matches.append(word)\n",
    "len(matches)\n"
   ]
  },
  {
   "cell_type": "code",
   "execution_count": null,
   "id": "coated-lambda",
   "metadata": {},
   "outputs": [],
   "source": [
    "print(matches)"
   ]
  },
  {
   "cell_type": "markdown",
   "id": "embedded-manner",
   "metadata": {},
   "source": [
    "## Example 3: print out a word if it contains an x, y, or z"
   ]
  },
  {
   "cell_type": "code",
   "execution_count": null,
   "id": "atomic-cylinder",
   "metadata": {},
   "outputs": [],
   "source": [
    "choice_letters = ['x', 'y', 'z']\n",
    "\n",
    "matches = []\n",
    "for word in wordlist:\n",
    "    has_all_letters = True\n",
    "    for choice_letter in choice_letters:\n",
    "        if choice_letter not in word:\n",
    "            has_all_letters = False\n",
    "    if has_all_letters:\n",
    "        matches.append(word)    "
   ]
  },
  {
   "cell_type": "code",
   "execution_count": null,
   "id": "dental-thomas",
   "metadata": {},
   "outputs": [],
   "source": [
    "len(matches)"
   ]
  },
  {
   "cell_type": "code",
   "execution_count": null,
   "id": "radio-turkish",
   "metadata": {},
   "outputs": [],
   "source": [
    "print(matches)"
   ]
  }
 ],
 "metadata": {
  "kernelspec": {
   "display_name": "Python 3",
   "language": "python",
   "name": "python3"
  },
  "language_info": {
   "codemirror_mode": {
    "name": "ipython",
    "version": 3
   },
   "file_extension": ".py",
   "mimetype": "text/x-python",
   "name": "python",
   "nbconvert_exporter": "python",
   "pygments_lexer": "ipython3",
   "version": "3.9.2"
  }
 },
 "nbformat": 4,
 "nbformat_minor": 5
}
